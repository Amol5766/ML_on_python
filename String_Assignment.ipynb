{
 "cells": [
  {
   "cell_type": "code",
   "execution_count": 1,
   "metadata": {
    "id": "OG2JlAXx3VoJ"
   },
   "outputs": [
    {
     "name": "stdout",
     "output_type": "stream",
     "text": [
      "Hello, World!\n"
     ]
    }
   ],
   "source": [
    "#Declare a string and store it in a variable. \n",
    "\n",
    "my_string = \"Hello, World!\"\n",
    "print(my_string)\n"
   ]
  },
  {
   "cell_type": "code",
   "execution_count": 2,
   "metadata": {},
   "outputs": [
    {
     "name": "stdout",
     "output_type": "stream",
     "text": [
      "Type of my_variable: <class 'str'>\n",
      "ID of my_variable: 1977377271984\n"
     ]
    }
   ],
   "source": [
    "#Check the type and print the id of the same.\n",
    "\n",
    "# Declare a variable\n",
    "my_variable = \"Hello, World!\"\n",
    "\n",
    "# Check the type of the variable and print it\n",
    "variable_type = type(my_variable)\n",
    "print(\"Type of my_variable:\", variable_type)\n",
    "\n",
    "# Print the id of the variable\n",
    "variable_id = id(my_variable)\n",
    "print(\"ID of my_variable:\", variable_id)"
   ]
  },
  {
   "cell_type": "code",
   "execution_count": null,
   "metadata": {
    "id": "wPxm3G8W3dqN"
   },
   "outputs": [],
   "source": [
    "#Which are valid/invalid string\n",
    "\n",
    "'This is Python class'\n",
    "Valid: This is a single-quoted string.\n",
    "    \n",
    "\"This is Python class\"\n",
    "Valid: This is a double-quoted string.\n",
    "\n",
    "'''This is Python class'''\n",
    "Valid: This is a triple-quoted string.\n",
    "\n",
    "\"\"\"This is Python class\"\"\"\n",
    "Valid: This is a triple-quoted string.\n",
    "\n",
    "'This is Python's class'\n",
    "Invalid: This string is single-quoted, but it contains a single quote within it, which can lead to a syntax error. To make it valid, you can use double quotes around the string.\n",
    "\n",
    "\"Learnbay provides \"Java\", \"Python\" classes\"\n",
    "Invalid: This string is double-quoted, but it contains double quotes within it, which can lead to a syntax error. To make it valid, you can use single quotes around the entire string or escape the inner double quotes.\n",
    "\n",
    "\"Learnbay provides 'Java', 'Python' classes\"\n",
    "Valid: This is a double-quoted string containing single quotes inside.\n",
    "\n",
    "\"This is Python's class\"\n",
    "Valid: This is a double-quoted string.\n",
    "\n",
    "\"\"\"Learnbay provides \"Java\", \"Python\" classes\"\"\"\n",
    "Valid: This is a triple-quoted string.\n",
    "\n",
    "'''Learnbay provides \"Java\", \"Python\" classes'''\n",
    "Valid: This is a triple-quoted string.\n",
    "\n",
    "'''Learnbay provides\"Java\", \"Python\" classes'''\n",
    "Valid: This is a triple-quoted string with line breaks.\n",
    "\n",
    "'This is Python class'\n",
    "Invalid: This string is single-quoted and contains line breaks, which can lead to a syntax error. To make it valid, you can use triple-quotes for multiline strings."
   ]
  },
  {
   "cell_type": "code",
   "execution_count": 3,
   "metadata": {
    "id": "Drx8fhT23g7a"
   },
   "outputs": [
    {
     "name": "stdout",
     "output_type": "stream",
     "text": [
      "The length of my_str is 66\n",
      "id of my_str and my_str1 is same? - False\n",
      "Type of my_str is: str\n"
     ]
    }
   ],
   "source": [
    "my_str = \"Although that way may not be obvious at first unless you're Dutch.\"\n",
    "my_str1 = \"Although that way may not be obvious at first unless you're Dutch.\"\n",
    "\n",
    "# Print the length of my_str\n",
    "print(\"The length of my_str is\", len(my_str))\n",
    "\n",
    "# Check if the id of my_str and my_str1 is the same\n",
    "print(\"id of my_str and my_str1 is same? -\", id(my_str) == id(my_str1))\n",
    "\n",
    "# Print the type of my_str\n",
    "print(\"Type of my_str is:\", type(my_str).__name__)\n"
   ]
  },
  {
   "cell_type": "code",
   "execution_count": 4,
   "metadata": {
    "id": "403e-I3A3lCO"
   },
   "outputs": [
    {
     "name": "stdout",
     "output_type": "stream",
     "text": [
      "The first character in my_str is: A\n",
      "The first character in my_str is: A\n",
      "The character at index 10 in my_str is:  \n",
      "The last character in my_str is: h\n",
      "The last character in my_str is: h\n",
      "The character in my_str is:  \n"
     ]
    }
   ],
   "source": [
    "my_str = \"Although 8 that way may not be obvious at first unless you're Dutch\"\n",
    "\n",
    "# Output the first character using positive indexing\n",
    "print(\"The first character in my_str is:\", my_str[0])\n",
    "\n",
    "# Output the first character using len() function\n",
    "print(\"The first character in my_str is:\", my_str[len(my_str) - len(my_str)])\n",
    "\n",
    "# Output the character at index 10 using positive indexing\n",
    "print(\"The character at index 10 in my_str is:\", my_str[10])\n",
    "\n",
    "# Output the last character using negative indexing\n",
    "print(\"The last character in my_str is:\", my_str[-1])\n",
    "\n",
    "# Output the last character using len() function\n",
    "print(\"The last character in my_str is:\", my_str[len(my_str) - 1])\n",
    "\n",
    "# Output the character at index 8 using positive indexing\n",
    "print(\"The character in my_str is:\", my_str[8])\n"
   ]
  },
  {
   "cell_type": "code",
   "execution_count": 5,
   "metadata": {
    "id": "NK_QdtsM3luu"
   },
   "outputs": [
    {
     "name": "stdout",
     "output_type": "stream",
     "text": [
      "The first character in my_str is: A\n",
      "The first character in my_str is: A\n",
      "The character at index 10 in my_str is:  \n",
      "The last character in my_str is: h\n",
      "The last character in my_str is: h\n",
      "The character in my_str is:  \n"
     ]
    }
   ],
   "source": [
    "\n",
    "my_str = \"Although 8 that way may not be obvious at first unless you're Dutch\"\n",
    "\n",
    "# Output the first character using positive indexing\n",
    "print(\"The first character in my_str is:\", my_str[0])\n",
    "\n",
    "# Output the first character using len() function\n",
    "print(\"The first character in my_str is:\", my_str[len(my_str) - len(my_str)])\n",
    "\n",
    "# Output the character at index 10 using positive indexing\n",
    "print(\"The character at index 10 in my_str is:\", my_str[10])\n",
    "\n",
    "# Output the last character using negative indexing\n",
    "print(\"The last character in my_str is:\", my_str[-1])\n",
    "\n",
    "# Output the last character using len() function\n",
    "print(\"The last character in my_str is:\", my_str[len(my_str) - 1])\n",
    "\n",
    "# Output the character at index 8 using positive indexing\n",
    "print(\"The character in my_str is:\", my_str[8])\n"
   ]
  },
  {
   "cell_type": "code",
   "execution_count": 6,
   "metadata": {
    "id": "qUSYa5x-3n5j"
   },
   "outputs": [
    {
     "name": "stdout",
     "output_type": "stream",
     "text": [
      "Output is: Learnbay Python\n",
      "Error: can only concatenate str (not \"int\") to str\n",
      "Error: can only concatenate str (not \"float\") to str\n",
      "Output is: LearnbayLearnbayLearnbay\n",
      "Error: can't multiply sequence by non-int of type 'float'\n",
      "Error: can't multiply sequence by non-int of type 'str'\n"
     ]
    }
   ],
   "source": [
    "#Basic operation on string\n",
    "str1 = 'Learnbay'\n",
    "str2 = 'Python'\n",
    "\n",
    "# Concatenate two strings\n",
    "result = str1 + ' ' + str2\n",
    "print(\"Output is:\", result)\n",
    "\n",
    "# Attempt to concatenate with an integer (will result in an error)\n",
    "try:\n",
    "    result = str1 + 5\n",
    "except TypeError as e:\n",
    "    print(\"Error:\", e)\n",
    "\n",
    "# Attempt to concatenate with a float (will result in an error)\n",
    "try:\n",
    "    result = str1 + 3.14\n",
    "except TypeError as e:\n",
    "    print(\"Error:\", e)\n",
    "\n",
    "# Repeat a string multiple times\n",
    "result = str1 * 3\n",
    "print(\"Output is:\", result)\n",
    "\n",
    "# Attempt to multiply by a float (will result in an error)\n",
    "try:\n",
    "    result = str1 * 2.5\n",
    "except TypeError as e:\n",
    "    print(\"Error:\", e)\n",
    "\n",
    "# Attempt to multiply by a string (will result in an error)\n",
    "try:\n",
    "    result = str1 * '2'\n",
    "except TypeError as e:\n",
    "    print(\"Error:\", e)\n",
    "\n",
    "\n"
   ]
  },
  {
   "cell_type": "code",
   "execution_count": 9,
   "metadata": {
    "id": "gREffmnr3s-p"
   },
   "outputs": [
    {
     "name": "stdout",
     "output_type": "stream",
     "text": [
      "Are str1 and str2 identical? True\n",
      "Are str1 and str3 identical? False\n",
      "Are str4 and str3 identical? False\n",
      "Is 'P' in str1? True\n",
      "Is '$' in str3? True\n",
      "Is 'N' in str3? False\n"
     ]
    }
   ],
   "source": [
    "\n",
    "# find the output\n",
    "\n",
    "str1 = 'Python'\n",
    "str2 = 'Python'\n",
    "str3 = 'Python$'\n",
    "str4 = 'Python$'\n",
    "\n",
    "# Check if str1 and str2 have the same identity\n",
    "print(\"Are str1 and str2 identical?\", str1 is str2)\n",
    "\n",
    "# Check if str1 and str3 have the same identity\n",
    "print(\"Are str1 and str3 identical?\", str1 is str3)\n",
    "\n",
    "# Check if str4 and str3 have the same identity\n",
    "print(\"Are str4 and str3 identical?\", str4 is str3)\n",
    "\n",
    "# Check if 'P' is a member of str1\n",
    "print(\"Is 'P' in str1?\", 'P' in str1)\n",
    "\n",
    "# Check if '$' is a member of str3\n",
    "print(\"Is '$' in str3?\", '$' in str3)\n",
    "\n",
    "# Check if 'N' is a member of str3\n",
    "print(\"Is 'N' in str3?\", 'N' in str3)\n",
    "\n"
   ]
  },
  {
   "cell_type": "code",
   "execution_count": 10,
   "metadata": {
    "id": "QNFjxDr73u2H"
   },
   "outputs": [
    {
     "name": "stdout",
     "output_type": "stream",
     "text": [
      "This is Java class\n"
     ]
    }
   ],
   "source": [
    "#Complete the below code\n",
    "#write the code to replace 'Python' with 'Java' and you should get below error.\n",
    "#TypeError: 'str' object does not support item assignment.\n",
    "\n",
    "str1 = 'This is Python class'\n",
    "\n",
    "# Replace 'Python' with 'Java' and create a new string\n",
    "str2 = str1.replace('Python', 'Java')\n",
    "\n",
    "# Print the modified string\n",
    "print(str2)\n",
    "\n"
   ]
  },
  {
   "cell_type": "code",
   "execution_count": 11,
   "metadata": {
    "id": "-JgFbPmn3w3D"
   },
   "outputs": [
    {
     "name": "stdout",
     "output_type": "stream",
     "text": [
      "Comparison operator (greater than): False\n",
      "Equality operator: True\n",
      "Equality operator: False\n",
      "Comparison operator (less than): False\n"
     ]
    }
   ],
   "source": [
    "\n",
    "str1 = 'A'\n",
    "str2 = 'A'\n",
    "\n",
    "# Compare str1 and str2 using comparison operator (greater than)\n",
    "print(\"Comparison operator (greater than):\", str1 > str2)  # False\n",
    "\n",
    "# Compare str1 and str2 using equality operator\n",
    "print(\"Equality operator:\", str1 == str2)  # True\n",
    "\n",
    "# Compare str1 and str2 using equality operator\n",
    "print(\"Equality operator:\", str1 != str2)  # False\n",
    "\n",
    "# Compare str1 and str2 using comparison operator (less than)\n",
    "print(\"Comparison operator (less than):\", str1 < str2)  # False\n"
   ]
  },
  {
   "cell_type": "code",
   "execution_count": 12,
   "metadata": {
    "id": "fJ46_L-53yhW"
   },
   "outputs": [
    {
     "name": "stdout",
     "output_type": "stream",
     "text": [
      "Comparison operator (greater than): False\n",
      "Equality operator: False\n",
      "Equality operator: True\n",
      "Comparison operator (less than): True\n"
     ]
    }
   ],
   "source": [
    "str1 = 'A'\n",
    "str2 = 'a'\n",
    "\n",
    "# Compare str1 and str2 using comparison operator (greater than)\n",
    "print(\"Comparison operator (greater than):\", str1 > str2)  # False\n",
    "\n",
    "# Compare str1 and str2 using equality operator\n",
    "print(\"Equality operator:\", str1 == str2)  # False\n",
    "\n",
    "# Compare str1 and str2 using equality operator\n",
    "print(\"Equality operator:\", str1 != str2)  # True\n",
    "\n",
    "# Compare str1 and str2 using comparison operator (less than)\n",
    "print(\"Comparison operator (less than):\", str1 < str2)  # True\n",
    "\n"
   ]
  },
  {
   "cell_type": "code",
   "execution_count": 13,
   "metadata": {
    "id": "e-Lr9va330gi"
   },
   "outputs": [
    {
     "name": "stdout",
     "output_type": "stream",
     "text": [
      "Equality operator: False\n",
      "Equality operator: True\n"
     ]
    }
   ],
   "source": [
    "str1 = 'A'\n",
    "str2 = '65'\n",
    "\n",
    "# Attempt to compare str1 and str2 using comparison operator (will result in an error)\n",
    "try:\n",
    "    result = str1 >= str2\n",
    "except TypeError as e:\n",
    "    print(\"Error:\", e)\n",
    "\n",
    "# Compare str1 and str2 using equality operator\n",
    "print(\"Equality operator:\", str1 == str2)  # False\n",
    "\n",
    "# Compare str1 and str2 using equality operator\n",
    "print(\"Equality operator:\", str1 != str2)  # True\n",
    "\n",
    "\n"
   ]
  },
  {
   "cell_type": "code",
   "execution_count": 14,
   "metadata": {
    "id": "JO04jmpN32Im"
   },
   "outputs": [
    {
     "name": "stdout",
     "output_type": "stream",
     "text": [
      "Comparison operator (greater than): False\n",
      "Equality operator: True\n",
      "Equality operator: False\n",
      "Comparison operator (less than): False\n"
     ]
    }
   ],
   "source": [
    "str1 = 'Python'\n",
    "str2 = 'Python'\n",
    "\n",
    "# Compare str1 and str2 using comparison operator (greater than)\n",
    "print(\"Comparison operator (greater than):\", str1 > str2)  # False\n",
    "\n",
    "# Compare str1 and str2 using equality operator\n",
    "print(\"Equality operator:\", str1 == str2)  # True\n",
    "\n",
    "# Compare str1 and str2 using equality operator\n",
    "print(\"Equality operator:\", str1 != str2)  # False\n",
    "\n",
    "# Compare str1 and str2 using comparison operator (less than)\n",
    "print(\"Comparison operator (less than):\", str1 < str2)  # False\n",
    "\n"
   ]
  },
  {
   "cell_type": "code",
   "execution_count": 15,
   "metadata": {
    "id": "nmVAYYC_35ip"
   },
   "outputs": [
    {
     "name": "stdout",
     "output_type": "stream",
     "text": [
      "Comparison operator (greater than): False\n",
      "Equality operator: False\n",
      "Equality operator: True\n",
      "Comparison operator (less than): True\n"
     ]
    }
   ],
   "source": [
    "str1 = 'Python'\n",
    "str2 = 'python'\n",
    "\n",
    "# Compare str1 and str2 using comparison operator (greater than)\n",
    "print(\"Comparison operator (greater than):\", str1 > str2)  # False\n",
    "\n",
    "# Compare str1 and str2 using equality operator\n",
    "print(\"Equality operator:\", str1 == str2)  # False\n",
    "\n",
    "# Compare str1 and str2 using equality operator\n",
    "print(\"Equality operator:\", str1 != str2)  # True\n",
    "\n",
    "# Compare str1 and str2 using comparison operator (less than)\n",
    "print(\"Comparison operator (less than):\", str1 < str2)  # True\n",
    "\n",
    "\n"
   ]
  },
  {
   "cell_type": "code",
   "execution_count": 16,
   "metadata": {
    "id": "7ulv5ith37OJ"
   },
   "outputs": [
    {
     "name": "stdout",
     "output_type": "stream",
     "text": [
      "Result of a and b: \n",
      "Result of a or b: Python\n",
      "Result of not a: False\n",
      "Result of not b: True\n",
      "Result of a and a: Python\n"
     ]
    }
   ],
   "source": [
    "a = 'Python'\n",
    "b = ''\n",
    "\n",
    "# Apply logical AND operator\n",
    "result1 = a and b  # Returns '' because both strings are considered \"truthy,\" and the result is the second operand.\n",
    "\n",
    "# Apply logical OR operator\n",
    "result2 = a or b  # Returns 'Python' because the first string is \"truthy,\" and the result is the first operand.\n",
    "\n",
    "# Apply logical NOT operator\n",
    "result3 = not a  # Returns False because 'Python' is considered \"truthy,\" and the NOT operator negates it.\n",
    "\n",
    "# Apply logical NOT operator\n",
    "result4 = not b  # Returns True because an empty string is considered \"falsy,\" and the NOT operator negates it.\n",
    "\n",
    "# Apply logical AND operator\n",
    "result5 = a and a  # Returns 'Python' because both operands are \"truthy,\" and the result is the second operand.\n",
    "\n",
    "# Print the results\n",
    "print(\"Result of a and b:\", result1)\n",
    "print(\"Result of a or b:\", result2)\n",
    "print(\"Result of not a:\", result3)\n",
    "print(\"Result of not b:\", result4)\n",
    "print(\"Result of a and a:\", result5)\n"
   ]
  },
  {
   "cell_type": "code",
   "execution_count": 17,
   "metadata": {
    "id": "Yg_gsZBL383n"
   },
   "outputs": [
    {
     "name": "stdout",
     "output_type": "stream",
     "text": [
      "Result of a and b: \n",
      "Result of a or b: \n",
      "Result of not a: True\n",
      "Result of not b: True\n"
     ]
    }
   ],
   "source": [
    "a = ''\n",
    "b = ''\n",
    "\n",
    "# Apply logical AND operator\n",
    "result1 = a and b  # Returns '' because both strings are considered \"falsy,\" and the result is the first operand.\n",
    "\n",
    "# Apply logical OR operator\n",
    "result2 = a or b  # Returns '' because both strings are considered \"falsy,\" and the result is the second operand.\n",
    "\n",
    "# Apply logical NOT operator\n",
    "result3 = not a  # Returns True because an empty string is considered \"falsy,\" and the NOT operator negates it.\n",
    "\n",
    "# Apply logical NOT operator\n",
    "result4 = not b  # Returns True because an empty string is considered \"falsy,\" and the NOT operator negates it.\n",
    "\n",
    "# Print the results\n",
    "print(\"Result of a and b:\", result1)\n",
    "print(\"Result of a or b:\", result2)\n",
    "print(\"Result of not a:\", result3)\n",
    "print(\"Result of not b:\", result4)\n"
   ]
  },
  {
   "cell_type": "code",
   "execution_count": 18,
   "metadata": {
    "id": "cIWkP9Hf3-q5"
   },
   "outputs": [
    {
     "name": "stdout",
     "output_type": "stream",
     "text": [
      "Result of a and b: learnbay\n",
      "Result of a or b: Python\n",
      "Result of not a: False\n",
      "Result of not b: False\n"
     ]
    }
   ],
   "source": [
    "a = 'Python'\n",
    "b = 'learnbay'\n",
    "\n",
    "# Apply logical AND operator\n",
    "result1 = a and b  # Returns 'learnbay' because both strings are considered \"truthy,\" and the result is the second operand.\n",
    "\n",
    "# Apply logical OR operator\n",
    "result2 = a or b  # Returns 'Python' because the first string is \"truthy,\" and the result is the first operand.\n",
    "\n",
    "# Apply logical NOT operator\n",
    "result3 = not a  # Returns False because 'Python' is considered \"truthy,\" and the NOT operator negates it.\n",
    "\n",
    "# Apply logical NOT operator\n",
    "result4 = not b  # Returns False because 'learnbay' is considered \"truthy,\" and the NOT operator negates it.\n",
    "\n",
    "# Print the results\n",
    "print(\"Result of a and b:\", result1)\n",
    "print(\"Result of a or b:\", result2)\n",
    "print(\"Result of not a:\", result3)\n",
    "print(\"Result of not b:\", result4)\n"
   ]
  },
  {
   "cell_type": "code",
   "execution_count": 20,
   "metadata": {
    "id": "Y0Ot_E704AX5"
   },
   "outputs": [
    {
     "name": "stdout",
     "output_type": "stream",
     "text": [
      "Total count of 't' in the string: 7\n",
      "Index of '8' using find(): 9\n",
      "Index of '8' using index(): 9\n",
      "-1\n",
      "Index of 'the' using index(): substring not found\n",
      "Index of 't' between positions 9 and 15: 11\n",
      "Rightmost index of 'u' using rfind(): 63\n",
      "Rightmost index of 'u' using rindex(): 63\n"
     ]
    }
   ],
   "source": [
    "my_str = \"Although 8 that way may not be obvious at first unless you're Dutch\"\n",
    "\n",
    "# Count the total occurrences of 't' using count() method\n",
    "count_t = my_str.count('t')\n",
    "print(\"Total count of 't' in the string:\", count_t)\n",
    "\n",
    "# Find the index of '8' using find() method\n",
    "index_8_find = my_str.find('8')\n",
    "print(\"Index of '8' using find():\", index_8_find)\n",
    "\n",
    "# Find the index of '8' using index() method\n",
    "try:\n",
    "    index_8_index = my_str.index('8')\n",
    "    print(\"Index of '8' using index():\", index_8_index)\n",
    "except ValueError as e:\n",
    "    print(\"Index of '8' using index():\", e)\n",
    "\n",
    "# The output of the following code:\n",
    "print(my_str.find('the'))  # Returns -1 because 'the' is not found in the string.\n",
    "try:\n",
    "    print(my_str.index('the'))  # Raises ValueError because 'the' is not found in the string.\n",
    "except ValueError as e:\n",
    "    print(\"Index of 'the' using index():\", e)\n",
    "\n",
    "# Find the index of 't' within a specific range (9 to 15)\n",
    "index_t_range = my_str.find('t', 9, 15)\n",
    "print(\"Index of 't' between positions 9 and 15:\", index_t_range)\n",
    "\n",
    "# Find the rightmost index of 'u' using rfind()\n",
    "rightmost_index_u = my_str.rfind('u')\n",
    "print(\"Rightmost index of 'u' using rfind():\", rightmost_index_u)\n",
    "\n",
    "# Find the rightmost index of 'u' using rindex()\n",
    "rightmost_index_u_index = my_str.rindex('u')\n",
    "print(\"Rightmost index of 'u' using rindex():\", rightmost_index_u_index)\n",
    "\n",
    "\n"
   ]
  },
  {
   "cell_type": "code",
   "execution_count": 21,
   "metadata": {
    "id": "Gommq59Q4CMi"
   },
   "outputs": [
    {
     "name": "stdout",
     "output_type": "stream",
     "text": [
      "Enter a string: amol\n",
      "Output: amol\n"
     ]
    }
   ],
   "source": [
    "#W A P which applies strip() method if any string, which will be taken from user, starts and ends with space, or applies \n",
    "#rrstrip() method if that string only ends with space or applies lstrip() method if that string only starts with a space.\n",
    "\n",
    "#For example:-\n",
    "#input:- '    Python   '\n",
    "#output:- 'Python'\n",
    "\n",
    "#input:- '    Python'\n",
    "#output:- 'Python'\n",
    "\n",
    "#input:- 'Python   '\n",
    "#output:- 'Python'\n",
    "\n",
    "\n",
    "# Input a string from the user\n",
    "user_input = input(\"Enter a string: \")\n",
    "\n",
    "# Check if the string starts and ends with spaces\n",
    "if user_input.startswith(' ') and user_input.endswith(' '):\n",
    "    result = user_input.strip()  # Apply strip() method\n",
    "elif user_input.startswith(' '):\n",
    "    result = user_input.lstrip()  # Apply lstrip() method\n",
    "elif user_input.endswith(' '):\n",
    "    result = user_input.rstrip()  # Apply rstrip() method\n",
    "else:\n",
    "    result = user_input  # No spaces to remove\n",
    "\n",
    "# Print the result\n",
    "print(\"Output:\", result)\n"
   ]
  },
  {
   "cell_type": "code",
   "execution_count": 22,
   "metadata": {
    "id": "9IUy-cpS4Dtt"
   },
   "outputs": [
    {
     "name": "stdout",
     "output_type": "stream",
     "text": [
      "Uppercase: ALTHOUGH 8 THAT WAY MAY NOT BE OBVIOUS AT FIRST UNLESS YOU'RE DUTCH\n",
      "Lowercase: although 8 that way may not be obvious at first unless you're dutch\n",
      "Swapcase: aLTHOUGH 8 THAT WAY MAY NOT BE OBVIOUS AT FIRST UNLESS YOU'RE dUTCH\n"
     ]
    }
   ],
   "source": [
    "\n",
    "my_str = \"Although 8 that way may not be obvious at first unless you're Dutch\"\n",
    "\n",
    "# Convert all alphabets to upper case\n",
    "upper_case_str = my_str.upper()\n",
    "print(\"Uppercase:\", upper_case_str)\n",
    "\n",
    "# Convert all alphabets to lower case\n",
    "lower_case_str = my_str.lower()\n",
    "print(\"Lowercase:\", lower_case_str)\n",
    "\n",
    "# Swap the cases of all alphabets\n",
    "swap_case_str = my_str.swapcase()\n",
    "print(\"Swapcase:\", swap_case_str)\n"
   ]
  },
  {
   "cell_type": "code",
   "execution_count": null,
   "metadata": {
    "id": "-BjS-z674HKW"
   },
   "outputs": [],
   "source": [
    "#Write the code which takes one string from user and if it starts with small case letter then convert it to corresponding \n",
    "#capital letter otherwise if starts with capital letters then convert first character of every word in that string into capital.\n",
    "\n"
   ]
  },
  {
   "cell_type": "code",
   "execution_count": null,
   "metadata": {
    "id": "-MCuDy5J4JQS"
   },
   "outputs": [],
   "source": [
    "#Take a string from user and check if it is:-\n",
    "#     1. alphanumeric\n",
    "#     2. alphabets\n",
    "#     3. digit\n",
    "#     4. all letters are in lower case\n",
    "#     5. all letters are in upper case\n",
    "#     6. in title case\n",
    "#     7. a space character\n",
    "#     8. numeric\n",
    "#     9. all number elements in string are decimal\n",
    "\n"
   ]
  },
  {
   "cell_type": "code",
   "execution_count": null,
   "metadata": {
    "id": "tiTN-4ik4KAG"
   },
   "outputs": [],
   "source": [
    "#W A P which takes a string as an input and prints True if the string is valid identifier else returns False.\n",
    "#Sample Input:- 'abc', 'abc1', 'ab1c', '1abc', 'abc$', '_abc', 'if'\n",
    "\n"
   ]
  },
  {
   "cell_type": "code",
   "execution_count": null,
   "metadata": {
    "id": "tAMkSIN84MPe"
   },
   "outputs": [],
   "source": [
    "#What will be output of below code?\n",
    "s = chr(65) + chr(97)\n",
    "print(s.isprintable())\n",
    "\n",
    "s = chr(27) + chr(97)\n",
    "print(s.isprintable())\n",
    "\n",
    "s = '\\n'\n",
    "print(s.isprintable())\n",
    "\n",
    "s = ''\n",
    "print(s.isprintable())"
   ]
  },
  {
   "cell_type": "code",
   "execution_count": null,
   "metadata": {
    "id": "pU9Os0mD4Pk1"
   },
   "outputs": [],
   "source": [
    "#What will be output of below code?\n",
    "my_string = '  '\n",
    "print(my_string.isascii())\n",
    "\n",
    "my_string = 'Studytonight'\n",
    "print(my_string.isascii())\n",
    "\n",
    "my_string = 'Study tonight'\n",
    "print(my_string.isascii())\n",
    "\n",
    "my_string = 'Studytonight@123'\n",
    "print(my_string.isascii())\n",
    "\n",
    "my_string = '°'\n",
    "print(my_string.isascii())\n",
    "\n",
    "my_string = 'ö'\n",
    "print(my_string.isascii())"
   ]
  },
  {
   "cell_type": "code",
   "execution_count": null,
   "metadata": {
    "id": "VsLV8FF74QTB"
   },
   "outputs": [],
   "source": [
    "#What will be the output of below code?\n",
    "firstString = \"der Fluß\"\n",
    "secondString = \"der Fluss\"\n",
    "\n",
    "if firstString.casefold() == secondString.casefold():\n",
    "    print('The strings are equal.')\n",
    "else:\n",
    "    print('The strings are not equal.')"
   ]
  },
  {
   "cell_type": "code",
   "execution_count": null,
   "metadata": {
    "id": "1m0U7jLa4Wjf"
   },
   "outputs": [],
   "source": [
    "#Write the code to get below output\n",
    "#O/P 1:- python** (using ljust method)\n",
    "\n",
    "\n",
    "#Write the code to get below output\n",
    "#O/P 1:- **python (using rjust method)\n",
    "\n",
    "\n",
    "#Write the code to get below output\n",
    "#O/P 1:- **python** (using rjust method)"
   ]
  },
  {
   "cell_type": "code",
   "execution_count": null,
   "metadata": {
    "id": "cRVkvW6s4YKK"
   },
   "outputs": [],
   "source": [
    "#Write a Python program to find the length of the my_str:-\n",
    "\n",
    "#Input:- 'Write a Python program to find the length of the my_str'\n",
    "#Output:- 55\n"
   ]
  },
  {
   "cell_type": "code",
   "execution_count": null,
   "metadata": {
    "id": "SjABWI284Zuz"
   },
   "outputs": [],
   "source": [
    "#Write a Python program to find the total number of times letter 'p' is appeared in the below string:-\n",
    "    \n",
    "#Input:- 'peter piper picked a peck of pickled peppers.'\n",
    "#Output:- 9\n",
    "\n"
   ]
  },
  {
   "cell_type": "code",
   "execution_count": null,
   "metadata": {
    "id": "-iZtqbEo4bQp"
   },
   "outputs": [],
   "source": [
    "#Write a Python Program, to print all the indexes of all occurences of letter 'p' appeared in the string:-\n",
    "    \n",
    "#Input:- 'peter piper picked a peck of pickled peppers.'\n",
    "#Output:- \n",
    "# 0\n",
    "# 6\n",
    "# 8\n",
    "# 12\n",
    "# 21\n",
    "# 29\n",
    "# 37\n",
    "# 39\n",
    "# 40\n"
   ]
  },
  {
   "cell_type": "code",
   "execution_count": null,
   "metadata": {
    "id": "_A8Eu8f84daM"
   },
   "outputs": [],
   "source": [
    "#Write a python program to find below output:-\n",
    "\n",
    "#Input:- 'peter piper picked a peck of pickled peppers.'\n",
    "#Output:- ['peter', 'piper', 'picked', 'a', 'peck', 'of', 'pickled', 'peppers.']\n",
    "\n"
   ]
  },
  {
   "cell_type": "code",
   "execution_count": null,
   "metadata": {
    "id": "juh7tQuL4fNc"
   },
   "outputs": [],
   "source": [
    "#Write a python program to find below output:-\n",
    "\n",
    "#Input:- 'peter piper picked a peck of pickled peppers.'\n",
    "#Output:- 'peppers. pickled of peck a picked piper peter'\n",
    "\n"
   ]
  },
  {
   "cell_type": "code",
   "execution_count": null,
   "metadata": {
    "id": "aaHQYz194fW7"
   },
   "outputs": [],
   "source": [
    "#Write a python program to find below output:-\n",
    "\n",
    "#Input:- 'peter piper picked a peck of pickled peppers.'\n",
    "#Output:- '.sreppep delkcip fo kcep a dekcip repip retep'\n",
    "\n"
   ]
  },
  {
   "cell_type": "code",
   "execution_count": null,
   "metadata": {
    "id": "LSgj9glC4feI"
   },
   "outputs": [],
   "source": [
    "#Write a python program to find below output:-\n",
    "\n",
    "#Input:- 'peter piper picked a peck of pickled peppers.'\n",
    "#Output:- 'retep repip dekcip a kcep fo delkcip .sreppep'"
   ]
  },
  {
   "cell_type": "code",
   "execution_count": null,
   "metadata": {
    "id": "WUxPAkY94foo"
   },
   "outputs": [],
   "source": [
    "#Write a python program to find below output:-\n",
    "\n",
    "#Input:- 'peter piper picked a peck of pickled peppers.'\n",
    "#Output:- 'Peter Piper Picked A Peck Of Pickled Peppers.'\n",
    "\n"
   ]
  },
  {
   "cell_type": "code",
   "execution_count": null,
   "metadata": {
    "id": "IT1NSPxA4mww"
   },
   "outputs": [],
   "source": [
    "#Write a python program to find below output:-\n",
    "\n",
    "#Input:- 'Peter Piper Picked A Peck Of Pickled Peppers.'\n",
    "#Output:- 'Peter piper picked a peck of pickled peppers.'\n",
    "\n"
   ]
  },
  {
   "cell_type": "code",
   "execution_count": null,
   "metadata": {
    "id": "3Gg65vSc4m3C"
   },
   "outputs": [],
   "source": [
    "#Write a python program to implement index method. If sub_str is found in my_str then it will print the index\n",
    "# of first occurrence of first character of matching string in my_str:-\n",
    "\n",
    "#Input:- my_str = 'Peter Piper Picked A Peck Of Pickled Peppers.', sub_str = 'Pickl'\n",
    "#Output:- 29\n",
    "\n"
   ]
  },
  {
   "cell_type": "code",
   "execution_count": null,
   "metadata": {
    "id": "iFRhp_JI4m6k"
   },
   "outputs": [],
   "source": [
    "#Write a python program to implement replace method. If sub_str is found in my_str then it will replace the first \n",
    "#occurrence of sub_str with new_str else it will will print sub_str not found:-\n",
    "\n",
    "#Input:- my_str = 'Peter Piper Picked A Peck Of Pickled Peppers.', sub_str = 'Peck', new_str = 'Pack'\n",
    "#Output:- 'Peter Piper Picked A Pack Of Pickled Peppers.'\n",
    "\n"
   ]
  },
  {
   "cell_type": "code",
   "execution_count": null,
   "metadata": {
    "id": "dQ9YhBBc4m9V"
   },
   "outputs": [],
   "source": [
    "#Write a python program to find below output (implements rjust and ljust):-\n",
    "\n",
    "#Input:- 'Peter Piper Picked A Peck Of Pickled Peppers.', sub_str = 'Peck', \n",
    "#Output:- '*********************Peck********************'\n",
    "\n",
    "\n"
   ]
  },
  {
   "cell_type": "code",
   "execution_count": null,
   "metadata": {
    "id": "w37BRLdt4tYT"
   },
   "outputs": [],
   "source": []
  },
  {
   "cell_type": "code",
   "execution_count": null,
   "metadata": {
    "id": "W64gCpeu4vaF"
   },
   "outputs": [],
   "source": []
  }
 ],
 "metadata": {
  "colab": {
   "collapsed_sections": [],
   "name": "String_Assignment.ipynb",
   "provenance": []
  },
  "kernelspec": {
   "display_name": "Python 3 (ipykernel)",
   "language": "python",
   "name": "python3"
  },
  "language_info": {
   "codemirror_mode": {
    "name": "ipython",
    "version": 3
   },
   "file_extension": ".py",
   "mimetype": "text/x-python",
   "name": "python",
   "nbconvert_exporter": "python",
   "pygments_lexer": "ipython3",
   "version": "3.11.4"
  },
  "latex_envs": {
   "LaTeX_envs_menu_present": true,
   "autoclose": false,
   "autocomplete": true,
   "bibliofile": "biblio.bib",
   "cite_by": "apalike",
   "current_citInitial": 1,
   "eqLabelWithNumbers": true,
   "eqNumInitial": 1,
   "hotkeys": {
    "equation": "Ctrl-E",
    "itemize": "Ctrl-I"
   },
   "labels_anchors": false,
   "latex_user_defs": false,
   "report_style_numbering": false,
   "user_envs_cfg": false
  },
  "varInspector": {
   "cols": {
    "lenName": 16,
    "lenType": 16,
    "lenVar": 40
   },
   "kernels_config": {
    "python": {
     "delete_cmd_postfix": "",
     "delete_cmd_prefix": "del ",
     "library": "var_list.py",
     "varRefreshCmd": "print(var_dic_list())"
    },
    "r": {
     "delete_cmd_postfix": ") ",
     "delete_cmd_prefix": "rm(",
     "library": "var_list.r",
     "varRefreshCmd": "cat(var_dic_list()) "
    }
   },
   "types_to_exclude": [
    "module",
    "function",
    "builtin_function_or_method",
    "instance",
    "_Feature"
   ],
   "window_display": false
  }
 },
 "nbformat": 4,
 "nbformat_minor": 1
}
