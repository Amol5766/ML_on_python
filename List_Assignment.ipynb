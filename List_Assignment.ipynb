{
 "cells": [
  {
   "cell_type": "code",
   "execution_count": 1,
   "metadata": {
    "id": "gtlAv2oq9yzd"
   },
   "outputs": [
    {
     "name": "stdout",
     "output_type": "stream",
     "text": [
      "100\n"
     ]
    }
   ],
   "source": [
    "#Write a Python program to find the sum of all elements in a list using loop.\n",
    "\n",
    "# expected Output:- 100\n",
    "\n",
    "\n",
    "# Input list\n",
    "input_list = [10, 20, 30, 40]\n",
    "\n",
    "# Initialize a variable to store the sum\n",
    "total_sum = 0\n",
    "\n",
    "# Loop through the elements in the list and add them to the sum\n",
    "for element in input_list:\n",
    "    total_sum += element\n",
    "\n",
    "# Print the total sum\n",
    "print(total_sum)\n"
   ]
  },
  {
   "cell_type": "code",
   "execution_count": 2,
   "metadata": {
    "id": "gTbA8psa93Y_"
   },
   "outputs": [
    {
     "name": "stdout",
     "output_type": "stream",
     "text": [
      "240000\n"
     ]
    }
   ],
   "source": [
    "#Write a Python program to find the multiplication of all elements in a list using loop.\n",
    "\n",
    "# expected Output:- 240000\n",
    "\n",
    "\n",
    "# Input list\n",
    "input_list = [10, 20, 30, 40]\n",
    "\n",
    "# Initialize a variable to store the multiplication result, initially set to 1\n",
    "multiplication_result = 1\n",
    "\n",
    "# Loop through the elements in the list and multiply them\n",
    "for element in input_list:\n",
    "    multiplication_result *= element\n",
    "\n",
    "# Print the multiplication result\n",
    "print(multiplication_result)\n"
   ]
  },
  {
   "cell_type": "code",
   "execution_count": 3,
   "metadata": {
    "id": "XBCrEtLN94Lj"
   },
   "outputs": [
    {
     "name": "stdout",
     "output_type": "stream",
     "text": [
      "2321\n"
     ]
    }
   ],
   "source": [
    "#Write a Python program to find the largest number from a list using loop.\n",
    "\n",
    "# expected Output:- 2321\n",
    "\n",
    "# Input list\n",
    "input_list = [10, 100, 2321, 1, 200, 2]\n",
    "\n",
    "# Initialize a variable to store the largest number, initially set to the first element of the list\n",
    "largest_number = input_list[0]\n",
    "\n",
    "# Loop through the elements in the list to find the largest number\n",
    "for element in input_list:\n",
    "    if element > largest_number:\n",
    "        largest_number = element\n",
    "\n",
    "# Print the largest number\n",
    "print(largest_number)\n",
    "\n"
   ]
  },
  {
   "cell_type": "code",
   "execution_count": 4,
   "metadata": {
    "id": "l3paUtbH94Vw"
   },
   "outputs": [
    {
     "name": "stdout",
     "output_type": "stream",
     "text": [
      "1\n"
     ]
    }
   ],
   "source": [
    "#Write a Python program to find the smallest number from a list using loop.\n",
    "\n",
    "# expected Output:- 1\n",
    "\n",
    "\n",
    "# Input list\n",
    "input_list = [10, 100, 2321, 1, 200, 2]\n",
    "\n",
    "# Initialize a variable to store the smallest number, initially set to the first element of the list\n",
    "smallest_number = input_list[0]\n",
    "\n",
    "# Loop through the elements in the list to find the smallest number\n",
    "for element in input_list:\n",
    "    if element < smallest_number:\n",
    "        smallest_number = element\n",
    "\n",
    "# Print the smallest number\n",
    "print(smallest_number)\n"
   ]
  },
  {
   "cell_type": "code",
   "execution_count": 5,
   "metadata": {
    "id": "JTVgy5VD94cE"
   },
   "outputs": [
    {
     "name": "stdout",
     "output_type": "stream",
     "text": [
      "2\n"
     ]
    }
   ],
   "source": [
    "#Write a Python program to count the number of strings having length more than 2 and are palindrome in a list using loop.\n",
    "\n",
    "# expected Output:- 2\n",
    "\n",
    "# Input list\n",
    "input_list = ['ab', 'abc', 'aba', 'xyz', '1991']\n",
    "\n",
    "# Initialize a variable to count the palindromes\n",
    "count_palindromes = 0\n",
    "\n",
    "# Loop through the elements in the list and check for palindromes\n",
    "for string in input_list:\n",
    "    if len(string) > 2 and string == string[::-1]:\n",
    "        count_palindromes += 1\n",
    "\n",
    "# Print the count of palindromes\n",
    "print(count_palindromes)\n"
   ]
  },
  {
   "cell_type": "code",
   "execution_count": 6,
   "metadata": {
    "id": "xs-ZGJbJ94gr"
   },
   "outputs": [
    {
     "name": "stdout",
     "output_type": "stream",
     "text": [
      "[1, 2, 9, 10, 65, 80, 100, 298, 483, 9213, 49876]\n"
     ]
    }
   ],
   "source": [
    "#Write a Python program to sort a list in ascending order using loop.\n",
    "\n",
    "# expected Output:- [1,2,9,10,65,80,100,298,483,9213,49876]\n",
    "\n",
    "\n",
    "# Input list\n",
    "input_list = [100, 10, 1, 298, 65, 483, 49876, 2, 80, 9, 9213]\n",
    "\n",
    "# Initialize an empty list to store the sorted elements\n",
    "sorted_list = []\n",
    "\n",
    "# Loop through the input list\n",
    "while input_list:\n",
    "    # Find the minimum element in the remaining list\n",
    "    min_element = min(input_list)\n",
    "    \n",
    "    # Append the minimum element to the sorted list\n",
    "    sorted_list.append(min_element)\n",
    "    \n",
    "    # Remove the minimum element from the input list\n",
    "    input_list.remove(min_element)\n",
    "\n",
    "# Print the sorted list\n",
    "print(sorted_list)\n"
   ]
  },
  {
   "cell_type": "code",
   "execution_count": 7,
   "metadata": {
    "id": "VhKQJizZ94kg"
   },
   "outputs": [
    {
     "name": "stdout",
     "output_type": "stream",
     "text": [
      "[(9, 1), (2, 3), (5, 4), (5, 5), (7, 6), (5, 9)]\n"
     ]
    }
   ],
   "source": [
    "#Write a Python program to get a sorted list in increasing order of last element in each tuple in a given list using loop.\n",
    "\n",
    "# expected Output:- [(9,1),(2,3),(5,4),(5,5),(7,6),(5,9)]\n",
    "\n",
    "\n",
    "# Input list of tuples\n",
    "input_list = [(5, 4), (9, 1), (2, 3), (5, 9), (7, 6), (5, 5)]\n",
    "\n",
    "# Initialize an empty list to store the sorted tuples\n",
    "sorted_list = []\n",
    "\n",
    "# Loop through the input list\n",
    "while input_list:\n",
    "    # Find the tuple with the minimum last element\n",
    "    min_tuple = min(input_list, key=lambda x: x[-1])\n",
    "    \n",
    "    # Append the minimum tuple to the sorted list\n",
    "    sorted_list.append(min_tuple)\n",
    "    \n",
    "    # Remove the minimum tuple from the input list\n",
    "    input_list.remove(min_tuple)\n",
    "\n",
    "# Print the sorted list\n",
    "print(sorted_list)\n"
   ]
  },
  {
   "cell_type": "code",
   "execution_count": 8,
   "metadata": {
    "id": "YJrCLYp694n_"
   },
   "outputs": [
    {
     "name": "stdout",
     "output_type": "stream",
     "text": [
      "[10, 1, 11, 29, 876, 768, 92]\n"
     ]
    }
   ],
   "source": [
    "#Write a Python program to remove fuplicate element from a list using loop.\n",
    "\n",
    "# expected Output:- [10,1,11,29,876,768,92]\n",
    "\n",
    "\n",
    "# Input list\n",
    "input_list = [10, 1, 11, 1, 29, 876, 768, 10, 11, 1, 92, 29, 876]\n",
    "\n",
    "# Initialize an empty list to store unique elements\n",
    "unique_list = []\n",
    "\n",
    "# Loop through the input list\n",
    "for element in input_list:\n",
    "    if element not in unique_list:\n",
    "        unique_list.append(element)\n",
    "\n",
    "# Print the unique list without duplicates\n",
    "print(unique_list)\n"
   ]
  },
  {
   "cell_type": "code",
   "execution_count": 9,
   "metadata": {
    "id": "koYe4YCu94rh"
   },
   "outputs": [
    {
     "name": "stdout",
     "output_type": "stream",
     "text": [
      "List is empty\n",
      "List is not empty\n"
     ]
    }
   ],
   "source": [
    "#Write a Python program to check a list is empty or not?\n",
    "#Input:- []\n",
    "# expected Output:- List is empty\n",
    "#Input:- [10,20,30]\n",
    "# expected Output:- List is not empty\n",
    "\n",
    "\n",
    "# Input list\n",
    "input_list1 = []\n",
    "input_list2 = [10, 20, 30]\n",
    "\n",
    "# Check if the first list is empty\n",
    "if not input_list1:\n",
    "    print(\"List is empty\")\n",
    "else:\n",
    "    print(\"List is not empty\")\n",
    "\n",
    "# Check if the second list is empty\n",
    "if not input_list2:\n",
    "    print(\"List is empty\")\n",
    "else:\n",
    "    print(\"List is not empty\")\n"
   ]
  },
  {
   "cell_type": "code",
   "execution_count": 10,
   "metadata": {
    "id": "mES1WANa94u5"
   },
   "outputs": [
    {
     "name": "stdout",
     "output_type": "stream",
     "text": [
      "[10, 10.2, (10+20j), 'Python', [10, 20], (10, 20)]\n"
     ]
    }
   ],
   "source": [
    "#Write a Python program to copy a list using loop.\n",
    "\n",
    "# expected out_lst = [10,10.20,10+20j, 'Python', [10,20], (10,20)]\n",
    "\n",
    "\n",
    "# Input list\n",
    "inp_lst = [10, 10.20, 10 + 20j, 'Python', [10, 20], (10, 20)]\n",
    "\n",
    "# Initialize an empty list to store the copied elements\n",
    "out_lst = []\n",
    "\n",
    "# Loop through the elements in the input list and copy them to the output list\n",
    "for element in inp_lst:\n",
    "    out_lst.append(element)\n",
    "\n",
    "# Print the copied list\n",
    "print(out_lst)\n"
   ]
  },
  {
   "cell_type": "code",
   "execution_count": 11,
   "metadata": {
    "id": "CpBh31WO94yi"
   },
   "outputs": [
    {
     "name": "stdout",
     "output_type": "stream",
     "text": [
      "['much', 'wood', 'would', 'woodchuck', 'chuck', 'could']\n"
     ]
    }
   ],
   "source": [
    "#Write a Python program to find the list of words that are longer than or equal to 4 from a given string.\n",
    "\n",
    "# expected Output:- ['much', 'wood', 'would', 'woodchuck', 'chuck', 'could']\n",
    "#Note:- Duplicate should be avoided.\n",
    "\n",
    "\n",
    "# Input string\n",
    "input_str = 'How much wood would a woodchuck chuck if a woodchuck could chuck wood'\n",
    "\n",
    "# Split the input string into words\n",
    "words = input_str.split()\n",
    "\n",
    "# Initialize an empty list to store unique words longer than or equal to 4 characters\n",
    "result = []\n",
    "\n",
    "# Iterate through the words\n",
    "for word in words:\n",
    "    if len(word) >= 4 and word not in result:\n",
    "        result.append(word)\n",
    "\n",
    "# Print the result\n",
    "print(result)\n"
   ]
  },
  {
   "cell_type": "code",
   "execution_count": 12,
   "metadata": {
    "id": "YVfj0fgZ9416"
   },
   "outputs": [
    {
     "name": "stdout",
     "output_type": "stream",
     "text": [
      "True\n"
     ]
    }
   ],
   "source": [
    "#Write a Python program which takes two list as input and returns True if they have at least 3 common elements.\n",
    "\n",
    "# expected Output:- True\n",
    "\n",
    "\n",
    "# Input lists\n",
    "inp_lst1 = [10, 20, 'Python', 10.20, 10 + 20j, [10, 20, 30], (10, 20, 30)]\n",
    "inp_lst2 = [(10, 20, 30), 1, 20 + 3j, 100.2, 10 + 20j, [10, 20, 30], 'Python']\n",
    "\n",
    "# Initialize a counter for common elements\n",
    "common_count = 0\n",
    "\n",
    "# Loop through elements in the first list\n",
    "for element1 in inp_lst1:\n",
    "    # Check if the element is in the second list and increment the counter\n",
    "    if element1 in inp_lst2:\n",
    "        common_count += 1\n",
    "        # If we find at least 3 common elements, break out of the loop\n",
    "        if common_count >= 3:\n",
    "            break\n",
    "\n",
    "# Check if there are at least 3 common elements\n",
    "if common_count >= 3:\n",
    "    print(True)\n",
    "else:\n",
    "    print(False)\n"
   ]
  },
  {
   "cell_type": "code",
   "execution_count": 13,
   "metadata": {
    "id": "7vwc3pjR945O"
   },
   "outputs": [
    {
     "name": "stdout",
     "output_type": "stream",
     "text": [
      "[0, 0, 0, 0]\n",
      "[0, 1, 2, 3]\n",
      "[0, 2, 4, 6]\n",
      "[0, 3, 6, 9]\n"
     ]
    }
   ],
   "source": [
    "#Write a Python program to create a 4X4 2D matrix with below elements using loop and list comprehension both.\n",
    "# expected Output:- [[0,0,0,0],[0,1,2,3],[0,2,4,6],[0,3,6,9]]\n",
    "\n",
    "# Initialize an empty 4x4 matrix\n",
    "matrix = []\n",
    "\n",
    "# Loop to create the matrix\n",
    "for i in range(4):\n",
    "    row = []\n",
    "    for j in range(4):\n",
    "        row.append(i * j)\n",
    "    matrix.append(row)\n",
    "\n",
    "# Print the matrix\n",
    "for row in matrix:\n",
    "    print(row)\n",
    "\n"
   ]
  },
  {
   "cell_type": "code",
   "execution_count": null,
   "metadata": {
    "id": "Pxafor84948b"
   },
   "outputs": [],
   "source": [
    "#Write a Python program to create a 3X4X6 3D matrix wiith below elements using loop\n",
    "# expected Output:- \n",
    "# [\n",
    "#     [[0,0,0,0,0,0],[0,0,0,0,0,0],[0,0,0,0,0,0],[0,0,0,0,0,0]],\n",
    "#     [[0,0,0,0,0,0],[1,1,1,1,1,1],[2,2,2,2,2,2],[3,3,3,3,3,3]],\n",
    "#     [[0,0,0,0,0,0],[2,2,2,2,2,2],[4,4,4,4,4,4],[6,6,6,6,6,6]]\n",
    "# ]\n",
    "\n",
    "\n"
   ]
  },
  {
   "cell_type": "code",
   "execution_count": null,
   "metadata": {
    "id": "lYNv8gk794_p"
   },
   "outputs": [],
   "source": [
    "#Write a Python program which takes a list of numbers as input and prints a new list after removing even numbers from it.\n",
    "#Input:- [10,21,22,98,87,45,33,1,2,100]\n",
    "# expected Output:- [21,87,45,33,1]\n",
    "\n",
    "\n"
   ]
  },
  {
   "cell_type": "code",
   "execution_count": null,
   "metadata": {
    "id": "3BaCb-rB95B7"
   },
   "outputs": [],
   "source": [
    "#Write a Python program which takes a list from the user and prints it after reshuffling the elements of the list.\n",
    "#Input:- [10,21,22,98,87,45,33,1,2,100]\n",
    "# expected Output:- [1,87,21,10,33,2,100,45,98,22] (It may be any randon list but with same elements)\n",
    "\n",
    "\n"
   ]
  }
 ],
 "metadata": {
  "colab": {
   "name": "List_Assignment.ipynb",
   "provenance": []
  },
  "kernelspec": {
   "display_name": "Python 3 (ipykernel)",
   "language": "python",
   "name": "python3"
  },
  "language_info": {
   "codemirror_mode": {
    "name": "ipython",
    "version": 3
   },
   "file_extension": ".py",
   "mimetype": "text/x-python",
   "name": "python",
   "nbconvert_exporter": "python",
   "pygments_lexer": "ipython3",
   "version": "3.11.4"
  }
 },
 "nbformat": 4,
 "nbformat_minor": 1
}
